{
 "cells": [
  {
   "cell_type": "markdown",
   "metadata": {
    "papermill": {
     "duration": 0.024024,
     "end_time": "2021-02-14T02:58:05.279331",
     "exception": false,
     "start_time": "2021-02-14T02:58:05.255307",
     "status": "completed"
    },
    "tags": []
   },
   "source": [
    "# Importing Libraries\n"
   ]
  },
  {
   "cell_type": "code",
   "execution_count": 1,
   "metadata": {
    "execution": {
     "iopub.execute_input": "2021-02-14T02:58:05.325115Z",
     "iopub.status.busy": "2021-02-14T02:58:05.324447Z",
     "iopub.status.idle": "2021-02-14T02:58:11.621839Z",
     "shell.execute_reply": "2021-02-14T02:58:11.620734Z"
    },
    "papermill": {
     "duration": 6.324516,
     "end_time": "2021-02-14T02:58:11.622044",
     "exception": false,
     "start_time": "2021-02-14T02:58:05.297528",
     "status": "completed"
    },
    "tags": []
   },
   "outputs": [],
   "source": [
    "import pandas as pd  ## Processing\n",
    "import numpy as np  ##Linear Algebra\n",
    "import matplotlib.pyplot as plt ## Plots\n",
    "import seaborn as sns\n",
    "\n",
    "from sklearn.model_selection import train_test_split\n",
    "from sklearn.metrics import confusion_matrix\n",
    "import itertools\n",
    "\n",
    "from keras.models import Sequential, load_model\n",
    "from keras.layers import Flatten, Dense, MaxPool2D, Conv2D, Dropout, BatchNormalization\n",
    "from keras.optimizers import RMSprop\n",
    "from keras.preprocessing.image import ImageDataGenerator\n",
    "from keras.callbacks import ReduceLROnPlateau, EarlyStopping, ModelCheckpoint\n",
    "from tensorflow.keras.datasets import mnist\n",
    "from keras.utils.np_utils import to_categorical\n",
    "\n",
    "sns.set(style = 'white', context = 'notebook', palette = 'deep')\n",
    "\n",
    "%matplotlib inline"
   ]
  },
  {
   "cell_type": "markdown",
   "metadata": {
    "papermill": {
     "duration": 0.01814,
     "end_time": "2021-02-14T02:58:11.659047",
     "exception": false,
     "start_time": "2021-02-14T02:58:11.640907",
     "status": "completed"
    },
    "tags": []
   },
   "source": [
    "# Gathering Data Set"
   ]
  },
  {
   "cell_type": "code",
   "execution_count": 2,
   "metadata": {
    "execution": {
     "iopub.execute_input": "2021-02-14T02:58:11.701790Z",
     "iopub.status.busy": "2021-02-14T02:58:11.701212Z",
     "iopub.status.idle": "2021-02-14T02:58:14.694358Z",
     "shell.execute_reply": "2021-02-14T02:58:14.693360Z"
    },
    "papermill": {
     "duration": 3.017089,
     "end_time": "2021-02-14T02:58:14.694524",
     "exception": false,
     "start_time": "2021-02-14T02:58:11.677435",
     "status": "completed"
    },
    "tags": []
   },
   "outputs": [],
   "source": [
    "## Loading train Dataset\n",
    "\n",
    "df_train = pd.read_csv(\"../input/digit-recognizer/train.csv\")"
   ]
  },
  {
   "cell_type": "code",
   "execution_count": 3,
   "metadata": {
    "execution": {
     "iopub.execute_input": "2021-02-14T02:58:14.744817Z",
     "iopub.status.busy": "2021-02-14T02:58:14.744136Z",
     "iopub.status.idle": "2021-02-14T02:58:14.764794Z",
     "shell.execute_reply": "2021-02-14T02:58:14.765241Z"
    },
    "papermill": {
     "duration": 0.051004,
     "end_time": "2021-02-14T02:58:14.765379",
     "exception": false,
     "start_time": "2021-02-14T02:58:14.714375",
     "status": "completed"
    },
    "tags": []
   },
   "outputs": [
    {
     "data": {
      "text/html": [
       "<div>\n",
       "<style scoped>\n",
       "    .dataframe tbody tr th:only-of-type {\n",
       "        vertical-align: middle;\n",
       "    }\n",
       "\n",
       "    .dataframe tbody tr th {\n",
       "        vertical-align: top;\n",
       "    }\n",
       "\n",
       "    .dataframe thead th {\n",
       "        text-align: right;\n",
       "    }\n",
       "</style>\n",
       "<table border=\"1\" class=\"dataframe\">\n",
       "  <thead>\n",
       "    <tr style=\"text-align: right;\">\n",
       "      <th></th>\n",
       "      <th>label</th>\n",
       "      <th>pixel0</th>\n",
       "      <th>pixel1</th>\n",
       "      <th>pixel2</th>\n",
       "      <th>pixel3</th>\n",
       "      <th>pixel4</th>\n",
       "      <th>pixel5</th>\n",
       "      <th>pixel6</th>\n",
       "      <th>pixel7</th>\n",
       "      <th>pixel8</th>\n",
       "      <th>...</th>\n",
       "      <th>pixel774</th>\n",
       "      <th>pixel775</th>\n",
       "      <th>pixel776</th>\n",
       "      <th>pixel777</th>\n",
       "      <th>pixel778</th>\n",
       "      <th>pixel779</th>\n",
       "      <th>pixel780</th>\n",
       "      <th>pixel781</th>\n",
       "      <th>pixel782</th>\n",
       "      <th>pixel783</th>\n",
       "    </tr>\n",
       "  </thead>\n",
       "  <tbody>\n",
       "    <tr>\n",
       "      <th>0</th>\n",
       "      <td>1</td>\n",
       "      <td>0</td>\n",
       "      <td>0</td>\n",
       "      <td>0</td>\n",
       "      <td>0</td>\n",
       "      <td>0</td>\n",
       "      <td>0</td>\n",
       "      <td>0</td>\n",
       "      <td>0</td>\n",
       "      <td>0</td>\n",
       "      <td>...</td>\n",
       "      <td>0</td>\n",
       "      <td>0</td>\n",
       "      <td>0</td>\n",
       "      <td>0</td>\n",
       "      <td>0</td>\n",
       "      <td>0</td>\n",
       "      <td>0</td>\n",
       "      <td>0</td>\n",
       "      <td>0</td>\n",
       "      <td>0</td>\n",
       "    </tr>\n",
       "    <tr>\n",
       "      <th>1</th>\n",
       "      <td>0</td>\n",
       "      <td>0</td>\n",
       "      <td>0</td>\n",
       "      <td>0</td>\n",
       "      <td>0</td>\n",
       "      <td>0</td>\n",
       "      <td>0</td>\n",
       "      <td>0</td>\n",
       "      <td>0</td>\n",
       "      <td>0</td>\n",
       "      <td>...</td>\n",
       "      <td>0</td>\n",
       "      <td>0</td>\n",
       "      <td>0</td>\n",
       "      <td>0</td>\n",
       "      <td>0</td>\n",
       "      <td>0</td>\n",
       "      <td>0</td>\n",
       "      <td>0</td>\n",
       "      <td>0</td>\n",
       "      <td>0</td>\n",
       "    </tr>\n",
       "    <tr>\n",
       "      <th>2</th>\n",
       "      <td>1</td>\n",
       "      <td>0</td>\n",
       "      <td>0</td>\n",
       "      <td>0</td>\n",
       "      <td>0</td>\n",
       "      <td>0</td>\n",
       "      <td>0</td>\n",
       "      <td>0</td>\n",
       "      <td>0</td>\n",
       "      <td>0</td>\n",
       "      <td>...</td>\n",
       "      <td>0</td>\n",
       "      <td>0</td>\n",
       "      <td>0</td>\n",
       "      <td>0</td>\n",
       "      <td>0</td>\n",
       "      <td>0</td>\n",
       "      <td>0</td>\n",
       "      <td>0</td>\n",
       "      <td>0</td>\n",
       "      <td>0</td>\n",
       "    </tr>\n",
       "    <tr>\n",
       "      <th>3</th>\n",
       "      <td>4</td>\n",
       "      <td>0</td>\n",
       "      <td>0</td>\n",
       "      <td>0</td>\n",
       "      <td>0</td>\n",
       "      <td>0</td>\n",
       "      <td>0</td>\n",
       "      <td>0</td>\n",
       "      <td>0</td>\n",
       "      <td>0</td>\n",
       "      <td>...</td>\n",
       "      <td>0</td>\n",
       "      <td>0</td>\n",
       "      <td>0</td>\n",
       "      <td>0</td>\n",
       "      <td>0</td>\n",
       "      <td>0</td>\n",
       "      <td>0</td>\n",
       "      <td>0</td>\n",
       "      <td>0</td>\n",
       "      <td>0</td>\n",
       "    </tr>\n",
       "    <tr>\n",
       "      <th>4</th>\n",
       "      <td>0</td>\n",
       "      <td>0</td>\n",
       "      <td>0</td>\n",
       "      <td>0</td>\n",
       "      <td>0</td>\n",
       "      <td>0</td>\n",
       "      <td>0</td>\n",
       "      <td>0</td>\n",
       "      <td>0</td>\n",
       "      <td>0</td>\n",
       "      <td>...</td>\n",
       "      <td>0</td>\n",
       "      <td>0</td>\n",
       "      <td>0</td>\n",
       "      <td>0</td>\n",
       "      <td>0</td>\n",
       "      <td>0</td>\n",
       "      <td>0</td>\n",
       "      <td>0</td>\n",
       "      <td>0</td>\n",
       "      <td>0</td>\n",
       "    </tr>\n",
       "  </tbody>\n",
       "</table>\n",
       "<p>5 rows × 785 columns</p>\n",
       "</div>"
      ],
      "text/plain": [
       "   label  pixel0  pixel1  pixel2  pixel3  pixel4  pixel5  pixel6  pixel7  \\\n",
       "0      1       0       0       0       0       0       0       0       0   \n",
       "1      0       0       0       0       0       0       0       0       0   \n",
       "2      1       0       0       0       0       0       0       0       0   \n",
       "3      4       0       0       0       0       0       0       0       0   \n",
       "4      0       0       0       0       0       0       0       0       0   \n",
       "\n",
       "   pixel8  ...  pixel774  pixel775  pixel776  pixel777  pixel778  pixel779  \\\n",
       "0       0  ...         0         0         0         0         0         0   \n",
       "1       0  ...         0         0         0         0         0         0   \n",
       "2       0  ...         0         0         0         0         0         0   \n",
       "3       0  ...         0         0         0         0         0         0   \n",
       "4       0  ...         0         0         0         0         0         0   \n",
       "\n",
       "   pixel780  pixel781  pixel782  pixel783  \n",
       "0         0         0         0         0  \n",
       "1         0         0         0         0  \n",
       "2         0         0         0         0  \n",
       "3         0         0         0         0  \n",
       "4         0         0         0         0  \n",
       "\n",
       "[5 rows x 785 columns]"
      ]
     },
     "execution_count": 3,
     "metadata": {},
     "output_type": "execute_result"
    }
   ],
   "source": [
    "## A glimpse at the data\n",
    "\n",
    "df_train.head()"
   ]
  },
  {
   "cell_type": "code",
   "execution_count": 4,
   "metadata": {
    "execution": {
     "iopub.execute_input": "2021-02-14T02:58:14.811351Z",
     "iopub.status.busy": "2021-02-14T02:58:14.810861Z",
     "iopub.status.idle": "2021-02-14T02:58:14.816369Z",
     "shell.execute_reply": "2021-02-14T02:58:14.815962Z"
    },
    "papermill": {
     "duration": 0.029317,
     "end_time": "2021-02-14T02:58:14.816492",
     "exception": false,
     "start_time": "2021-02-14T02:58:14.787175",
     "status": "completed"
    },
    "tags": []
   },
   "outputs": [
    {
     "data": {
      "text/plain": [
       "(42000, 785)"
      ]
     },
     "execution_count": 4,
     "metadata": {},
     "output_type": "execute_result"
    }
   ],
   "source": [
    "## showing total values and columns\n",
    "\n",
    "df_train.shape"
   ]
  },
  {
   "cell_type": "code",
   "execution_count": 5,
   "metadata": {
    "execution": {
     "iopub.execute_input": "2021-02-14T02:58:14.860123Z",
     "iopub.status.busy": "2021-02-14T02:58:14.859635Z",
     "iopub.status.idle": "2021-02-14T02:58:16.642310Z",
     "shell.execute_reply": "2021-02-14T02:58:16.641847Z"
    },
    "papermill": {
     "duration": 1.806763,
     "end_time": "2021-02-14T02:58:16.642481",
     "exception": false,
     "start_time": "2021-02-14T02:58:14.835718",
     "status": "completed"
    },
    "tags": []
   },
   "outputs": [],
   "source": [
    "# Loading test data\n",
    "\n",
    "df_test = pd.read_csv('../input/digit-recognizer/test.csv')"
   ]
  },
  {
   "cell_type": "code",
   "execution_count": 6,
   "metadata": {
    "execution": {
     "iopub.execute_input": "2021-02-14T02:58:16.700135Z",
     "iopub.status.busy": "2021-02-14T02:58:16.698808Z",
     "iopub.status.idle": "2021-02-14T02:58:16.702973Z",
     "shell.execute_reply": "2021-02-14T02:58:16.703363Z"
    },
    "papermill": {
     "duration": 0.040321,
     "end_time": "2021-02-14T02:58:16.703499",
     "exception": false,
     "start_time": "2021-02-14T02:58:16.663178",
     "status": "completed"
    },
    "tags": []
   },
   "outputs": [
    {
     "data": {
      "text/html": [
       "<div>\n",
       "<style scoped>\n",
       "    .dataframe tbody tr th:only-of-type {\n",
       "        vertical-align: middle;\n",
       "    }\n",
       "\n",
       "    .dataframe tbody tr th {\n",
       "        vertical-align: top;\n",
       "    }\n",
       "\n",
       "    .dataframe thead th {\n",
       "        text-align: right;\n",
       "    }\n",
       "</style>\n",
       "<table border=\"1\" class=\"dataframe\">\n",
       "  <thead>\n",
       "    <tr style=\"text-align: right;\">\n",
       "      <th></th>\n",
       "      <th>pixel0</th>\n",
       "      <th>pixel1</th>\n",
       "      <th>pixel2</th>\n",
       "      <th>pixel3</th>\n",
       "      <th>pixel4</th>\n",
       "      <th>pixel5</th>\n",
       "      <th>pixel6</th>\n",
       "      <th>pixel7</th>\n",
       "      <th>pixel8</th>\n",
       "      <th>pixel9</th>\n",
       "      <th>...</th>\n",
       "      <th>pixel774</th>\n",
       "      <th>pixel775</th>\n",
       "      <th>pixel776</th>\n",
       "      <th>pixel777</th>\n",
       "      <th>pixel778</th>\n",
       "      <th>pixel779</th>\n",
       "      <th>pixel780</th>\n",
       "      <th>pixel781</th>\n",
       "      <th>pixel782</th>\n",
       "      <th>pixel783</th>\n",
       "    </tr>\n",
       "  </thead>\n",
       "  <tbody>\n",
       "    <tr>\n",
       "      <th>0</th>\n",
       "      <td>0</td>\n",
       "      <td>0</td>\n",
       "      <td>0</td>\n",
       "      <td>0</td>\n",
       "      <td>0</td>\n",
       "      <td>0</td>\n",
       "      <td>0</td>\n",
       "      <td>0</td>\n",
       "      <td>0</td>\n",
       "      <td>0</td>\n",
       "      <td>...</td>\n",
       "      <td>0</td>\n",
       "      <td>0</td>\n",
       "      <td>0</td>\n",
       "      <td>0</td>\n",
       "      <td>0</td>\n",
       "      <td>0</td>\n",
       "      <td>0</td>\n",
       "      <td>0</td>\n",
       "      <td>0</td>\n",
       "      <td>0</td>\n",
       "    </tr>\n",
       "    <tr>\n",
       "      <th>1</th>\n",
       "      <td>0</td>\n",
       "      <td>0</td>\n",
       "      <td>0</td>\n",
       "      <td>0</td>\n",
       "      <td>0</td>\n",
       "      <td>0</td>\n",
       "      <td>0</td>\n",
       "      <td>0</td>\n",
       "      <td>0</td>\n",
       "      <td>0</td>\n",
       "      <td>...</td>\n",
       "      <td>0</td>\n",
       "      <td>0</td>\n",
       "      <td>0</td>\n",
       "      <td>0</td>\n",
       "      <td>0</td>\n",
       "      <td>0</td>\n",
       "      <td>0</td>\n",
       "      <td>0</td>\n",
       "      <td>0</td>\n",
       "      <td>0</td>\n",
       "    </tr>\n",
       "    <tr>\n",
       "      <th>2</th>\n",
       "      <td>0</td>\n",
       "      <td>0</td>\n",
       "      <td>0</td>\n",
       "      <td>0</td>\n",
       "      <td>0</td>\n",
       "      <td>0</td>\n",
       "      <td>0</td>\n",
       "      <td>0</td>\n",
       "      <td>0</td>\n",
       "      <td>0</td>\n",
       "      <td>...</td>\n",
       "      <td>0</td>\n",
       "      <td>0</td>\n",
       "      <td>0</td>\n",
       "      <td>0</td>\n",
       "      <td>0</td>\n",
       "      <td>0</td>\n",
       "      <td>0</td>\n",
       "      <td>0</td>\n",
       "      <td>0</td>\n",
       "      <td>0</td>\n",
       "    </tr>\n",
       "    <tr>\n",
       "      <th>3</th>\n",
       "      <td>0</td>\n",
       "      <td>0</td>\n",
       "      <td>0</td>\n",
       "      <td>0</td>\n",
       "      <td>0</td>\n",
       "      <td>0</td>\n",
       "      <td>0</td>\n",
       "      <td>0</td>\n",
       "      <td>0</td>\n",
       "      <td>0</td>\n",
       "      <td>...</td>\n",
       "      <td>0</td>\n",
       "      <td>0</td>\n",
       "      <td>0</td>\n",
       "      <td>0</td>\n",
       "      <td>0</td>\n",
       "      <td>0</td>\n",
       "      <td>0</td>\n",
       "      <td>0</td>\n",
       "      <td>0</td>\n",
       "      <td>0</td>\n",
       "    </tr>\n",
       "    <tr>\n",
       "      <th>4</th>\n",
       "      <td>0</td>\n",
       "      <td>0</td>\n",
       "      <td>0</td>\n",
       "      <td>0</td>\n",
       "      <td>0</td>\n",
       "      <td>0</td>\n",
       "      <td>0</td>\n",
       "      <td>0</td>\n",
       "      <td>0</td>\n",
       "      <td>0</td>\n",
       "      <td>...</td>\n",
       "      <td>0</td>\n",
       "      <td>0</td>\n",
       "      <td>0</td>\n",
       "      <td>0</td>\n",
       "      <td>0</td>\n",
       "      <td>0</td>\n",
       "      <td>0</td>\n",
       "      <td>0</td>\n",
       "      <td>0</td>\n",
       "      <td>0</td>\n",
       "    </tr>\n",
       "  </tbody>\n",
       "</table>\n",
       "<p>5 rows × 784 columns</p>\n",
       "</div>"
      ],
      "text/plain": [
       "   pixel0  pixel1  pixel2  pixel3  pixel4  pixel5  pixel6  pixel7  pixel8  \\\n",
       "0       0       0       0       0       0       0       0       0       0   \n",
       "1       0       0       0       0       0       0       0       0       0   \n",
       "2       0       0       0       0       0       0       0       0       0   \n",
       "3       0       0       0       0       0       0       0       0       0   \n",
       "4       0       0       0       0       0       0       0       0       0   \n",
       "\n",
       "   pixel9  ...  pixel774  pixel775  pixel776  pixel777  pixel778  pixel779  \\\n",
       "0       0  ...         0         0         0         0         0         0   \n",
       "1       0  ...         0         0         0         0         0         0   \n",
       "2       0  ...         0         0         0         0         0         0   \n",
       "3       0  ...         0         0         0         0         0         0   \n",
       "4       0  ...         0         0         0         0         0         0   \n",
       "\n",
       "   pixel780  pixel781  pixel782  pixel783  \n",
       "0         0         0         0         0  \n",
       "1         0         0         0         0  \n",
       "2         0         0         0         0  \n",
       "3         0         0         0         0  \n",
       "4         0         0         0         0  \n",
       "\n",
       "[5 rows x 784 columns]"
      ]
     },
     "execution_count": 6,
     "metadata": {},
     "output_type": "execute_result"
    }
   ],
   "source": [
    "## A look at the test data\n",
    "\n",
    "df_test.head()"
   ]
  },
  {
   "cell_type": "code",
   "execution_count": 7,
   "metadata": {
    "execution": {
     "iopub.execute_input": "2021-02-14T02:58:16.748669Z",
     "iopub.status.busy": "2021-02-14T02:58:16.747839Z",
     "iopub.status.idle": "2021-02-14T02:58:16.751211Z",
     "shell.execute_reply": "2021-02-14T02:58:16.751624Z"
    },
    "papermill": {
     "duration": 0.028311,
     "end_time": "2021-02-14T02:58:16.751743",
     "exception": false,
     "start_time": "2021-02-14T02:58:16.723432",
     "status": "completed"
    },
    "tags": []
   },
   "outputs": [
    {
     "data": {
      "text/plain": [
       "(28000, 784)"
      ]
     },
     "execution_count": 7,
     "metadata": {},
     "output_type": "execute_result"
    }
   ],
   "source": [
    "## values and colums of the test data\n",
    "\n",
    "df_test.shape"
   ]
  },
  {
   "cell_type": "markdown",
   "metadata": {
    "papermill": {
     "duration": 0.020613,
     "end_time": "2021-02-14T02:58:16.792765",
     "exception": false,
     "start_time": "2021-02-14T02:58:16.772152",
     "status": "completed"
    },
    "tags": []
   },
   "source": [
    "# EDA/Processing"
   ]
  },
  {
   "cell_type": "code",
   "execution_count": 8,
   "metadata": {
    "execution": {
     "iopub.execute_input": "2021-02-14T02:58:16.917628Z",
     "iopub.status.busy": "2021-02-14T02:58:16.916713Z",
     "iopub.status.idle": "2021-02-14T02:58:17.112016Z",
     "shell.execute_reply": "2021-02-14T02:58:17.112451Z"
    },
    "papermill": {
     "duration": 0.299305,
     "end_time": "2021-02-14T02:58:17.112623",
     "exception": false,
     "start_time": "2021-02-14T02:58:16.813318",
     "status": "completed"
    },
    "tags": []
   },
   "outputs": [
    {
     "data": {
      "text/plain": [
       "<AxesSubplot:>"
      ]
     },
     "execution_count": 8,
     "metadata": {},
     "output_type": "execute_result"
    },
    {
     "data": {
      "image/png": "[encoded data removed]",
      "text/plain": [
       "<Figure size 432x288 with 1 Axes>"
      ]
     },
     "metadata": {
      "needs_background": "light"
     },
     "output_type": "display_data"
    }
   ],
   "source": [
    "y_train = df_train['label']\n",
    "\n",
    "X_train = df_train.drop(labels = ['label'], axis = 1)\n",
    "\n",
    "hist = y_train.value_counts()\n",
    "\n",
    "hist.plot.bar()"
   ]
  },
  {
   "cell_type": "code",
   "execution_count": 9,
   "metadata": {
    "execution": {
     "iopub.execute_input": "2021-02-14T02:58:17.170763Z",
     "iopub.status.busy": "2021-02-14T02:58:17.169404Z",
     "iopub.status.idle": "2021-02-14T02:58:17.212924Z",
     "shell.execute_reply": "2021-02-14T02:58:17.212495Z"
    },
    "papermill": {
     "duration": 0.07878,
     "end_time": "2021-02-14T02:58:17.213038",
     "exception": false,
     "start_time": "2021-02-14T02:58:17.134258",
     "status": "completed"
    },
    "tags": []
   },
   "outputs": [
    {
     "data": {
      "text/plain": [
       "label       0\n",
       "pixel0      0\n",
       "pixel1      0\n",
       "pixel2      0\n",
       "pixel3      0\n",
       "           ..\n",
       "pixel779    0\n",
       "pixel780    0\n",
       "pixel781    0\n",
       "pixel782    0\n",
       "pixel783    0\n",
       "Length: 785, dtype: int64"
      ]
     },
     "execution_count": 9,
     "metadata": {},
     "output_type": "execute_result"
    }
   ],
   "source": [
    "## checking for missing values in the data\n",
    "\n",
    "df_train.isnull().sum()"
   ]
  },
  {
   "cell_type": "code",
   "execution_count": 10,
   "metadata": {
    "execution": {
     "iopub.execute_input": "2021-02-14T02:58:17.261178Z",
     "iopub.status.busy": "2021-02-14T02:58:17.260695Z",
     "iopub.status.idle": "2021-02-14T02:58:17.437424Z",
     "shell.execute_reply": "2021-02-14T02:58:17.436941Z"
    },
    "papermill": {
     "duration": 0.202187,
     "end_time": "2021-02-14T02:58:17.437562",
     "exception": false,
     "start_time": "2021-02-14T02:58:17.235375",
     "status": "completed"
    },
    "tags": []
   },
   "outputs": [],
   "source": [
    "## Normalization\n",
    "\n",
    "X_train = X_train / 255.0\n",
    "\n",
    "df_test = df_test / 255.0"
   ]
  },
  {
   "cell_type": "code",
   "execution_count": 11,
   "metadata": {
    "execution": {
     "iopub.execute_input": "2021-02-14T02:58:17.487553Z",
     "iopub.status.busy": "2021-02-14T02:58:17.486246Z",
     "iopub.status.idle": "2021-02-14T02:58:17.489095Z",
     "shell.execute_reply": "2021-02-14T02:58:17.488665Z"
    },
    "papermill": {
     "duration": 0.029199,
     "end_time": "2021-02-14T02:58:17.489199",
     "exception": false,
     "start_time": "2021-02-14T02:58:17.460000",
     "status": "completed"
    },
    "tags": []
   },
   "outputs": [],
   "source": [
    "## Reshape\n",
    "\n",
    "X_train = X_train.values.reshape(-1, 28,28, 1)\n",
    "\n",
    "df_test = df_test.values.reshape(-1, 28,28, 1)"
   ]
  },
  {
   "cell_type": "code",
   "execution_count": 12,
   "metadata": {
    "execution": {
     "iopub.execute_input": "2021-02-14T02:58:17.537205Z",
     "iopub.status.busy": "2021-02-14T02:58:17.536121Z",
     "iopub.status.idle": "2021-02-14T02:58:17.539809Z",
     "shell.execute_reply": "2021-02-14T02:58:17.539313Z"
    },
    "papermill": {
     "duration": 0.028917,
     "end_time": "2021-02-14T02:58:17.539911",
     "exception": false,
     "start_time": "2021-02-14T02:58:17.510994",
     "status": "completed"
    },
    "tags": []
   },
   "outputs": [],
   "source": [
    "## Label Encoding\n",
    "\n",
    "y_train = to_categorical(y_train, num_classes = 10)"
   ]
  },
  {
   "cell_type": "code",
   "execution_count": 13,
   "metadata": {
    "execution": {
     "iopub.execute_input": "2021-02-14T02:58:17.588647Z",
     "iopub.status.busy": "2021-02-14T02:58:17.588088Z",
     "iopub.status.idle": "2021-02-14T02:58:17.962812Z",
     "shell.execute_reply": "2021-02-14T02:58:17.962280Z"
    },
    "papermill": {
     "duration": 0.400922,
     "end_time": "2021-02-14T02:58:17.962960",
     "exception": false,
     "start_time": "2021-02-14T02:58:17.562038",
     "status": "completed"
    },
    "tags": []
   },
   "outputs": [],
   "source": [
    "## Split training testing/training\n",
    "\n",
    "X_train, X_test, y_train, y_test = train_test_split(X_train, y_train, test_size\n",
    "                                                   = 0.1, random_state = 2)"
   ]
  },
  {
   "cell_type": "code",
   "execution_count": 14,
   "metadata": {
    "execution": {
     "iopub.execute_input": "2021-02-14T02:58:18.015979Z",
     "iopub.status.busy": "2021-02-14T02:58:18.015427Z",
     "iopub.status.idle": "2021-02-14T02:58:18.021437Z",
     "shell.execute_reply": "2021-02-14T02:58:18.020973Z"
    },
    "papermill": {
     "duration": 0.035829,
     "end_time": "2021-02-14T02:58:18.021548",
     "exception": false,
     "start_time": "2021-02-14T02:58:17.985719",
     "status": "completed"
    },
    "tags": []
   },
   "outputs": [
    {
     "name": "stdout",
     "output_type": "stream",
     "text": [
      "X_train shape:  (37800, 28, 28, 1)\n",
      "X_test shape:  (4200, 28, 28, 1)\n",
      "y_train shape:  (37800, 10)\n",
      "y_test shape:  (4200, 10)\n"
     ]
    }
   ],
   "source": [
    "## Showing split data\n",
    "\n",
    "print('X_train shape: ', X_train.shape)\n",
    "print('X_test shape: ', X_test.shape)\n",
    "print('y_train shape: ', y_train.shape)\n",
    "print('y_test shape: ', y_test.shape)"
   ]
  },
  {
   "cell_type": "code",
   "execution_count": 15,
   "metadata": {
    "execution": {
     "iopub.execute_input": "2021-02-14T02:58:18.079720Z",
     "iopub.status.busy": "2021-02-14T02:58:18.078920Z",
     "iopub.status.idle": "2021-02-14T02:58:18.602874Z",
     "shell.execute_reply": "2021-02-14T02:58:18.603285Z"
    },
    "papermill": {
     "duration": 0.559186,
     "end_time": "2021-02-14T02:58:18.603450",
     "exception": false,
     "start_time": "2021-02-14T02:58:18.044264",
     "status": "completed"
    },
    "tags": []
   },
   "outputs": [
    {
     "data": {
      "image/png": "[encoded data removed]",
      "text/plain": [
       "<Figure size 864x648 with 4 Axes>"
      ]
     },
     "metadata": {
      "needs_background": "light"
     },
     "output_type": "display_data"
    }
   ],
   "source": [
    "nrows = 2\n",
    "\n",
    "ncols = 2\n",
    "\n",
    "pic_indexes = np.random.randint(X_train.shape[0], size\n",
    "                             =(nrows * ncols))\n",
    "\n",
    "f, axs = plt.subplots(nrows, ncols, figsize = (12,9))\n",
    "\n",
    "axs = axs.flatten()\n",
    "\n",
    "picture_index = 0\n",
    "\n",
    "for picture_index, ax in zip(pic_indexes, axs):\n",
    "    ax.imshow(X_train[picture_index].reshape(28, 28), cmap = 'gray')\n",
    "    \n",
    "    ax.set_title(f'Label: {y_train[picture_index]}')\n",
    "    \n",
    "    \n",
    "plt.show()"
   ]
  },
  {
   "cell_type": "code",
   "execution_count": 16,
   "metadata": {
    "execution": {
     "iopub.execute_input": "2021-02-14T02:58:18.667288Z",
     "iopub.status.busy": "2021-02-14T02:58:18.659456Z",
     "iopub.status.idle": "2021-02-14T02:58:18.802046Z",
     "shell.execute_reply": "2021-02-14T02:58:18.802494Z"
    },
    "papermill": {
     "duration": 0.175619,
     "end_time": "2021-02-14T02:58:18.802646",
     "exception": false,
     "start_time": "2021-02-14T02:58:18.627027",
     "status": "completed"
    },
    "tags": []
   },
   "outputs": [
    {
     "data": {
      "image/png": "[encoded data removed]",
      "text/plain": [
       "<Figure size 432x288 with 1 Axes>"
      ]
     },
     "metadata": {
      "needs_background": "light"
     },
     "output_type": "display_data"
    }
   ],
   "source": [
    "g = plt.imshow(X_train[0][:, :, 0])"
   ]
  },
  {
   "cell_type": "code",
   "execution_count": 17,
   "metadata": {
    "execution": {
     "iopub.execute_input": "2021-02-14T02:58:18.856323Z",
     "iopub.status.busy": "2021-02-14T02:58:18.855603Z",
     "iopub.status.idle": "2021-02-14T02:58:18.858823Z",
     "shell.execute_reply": "2021-02-14T02:58:18.859180Z"
    },
    "papermill": {
     "duration": 0.03214,
     "end_time": "2021-02-14T02:58:18.859303",
     "exception": false,
     "start_time": "2021-02-14T02:58:18.827163",
     "status": "completed"
    },
    "tags": []
   },
   "outputs": [
    {
     "data": {
      "text/plain": [
       "array([0., 0., 0., 0., 0., 0., 0., 0., 1., 0.], dtype=float32)"
      ]
     },
     "execution_count": 17,
     "metadata": {},
     "output_type": "execute_result"
    }
   ],
   "source": [
    "y_train[0]"
   ]
  },
  {
   "cell_type": "markdown",
   "metadata": {
    "papermill": {
     "duration": 0.024324,
     "end_time": "2021-02-14T02:58:18.908069",
     "exception": false,
     "start_time": "2021-02-14T02:58:18.883745",
     "status": "completed"
    },
    "tags": []
   },
   "source": [
    "# CNN"
   ]
  },
  {
   "cell_type": "code",
   "execution_count": 18,
   "metadata": {
    "execution": {
     "iopub.execute_input": "2021-02-14T02:58:18.964981Z",
     "iopub.status.busy": "2021-02-14T02:58:18.964371Z",
     "iopub.status.idle": "2021-02-14T02:58:22.081832Z",
     "shell.execute_reply": "2021-02-14T02:58:22.080778Z"
    },
    "papermill": {
     "duration": 3.149517,
     "end_time": "2021-02-14T02:58:22.081982",
     "exception": false,
     "start_time": "2021-02-14T02:58:18.932465",
     "status": "completed"
    },
    "tags": []
   },
   "outputs": [],
   "source": [
    "model = Sequential()\n",
    "\n",
    "model.add(Conv2D(filters = 32, kernel_size = (5,5), padding = 'same', \n",
    "                activation = 'relu', input_shape = (28, 28, 1)))\n",
    "                \n",
    "\n",
    "model.add(Conv2D(filters = 32, kernel_size = (5,5), padding = 'Same', activation\n",
    "                 = 'relu'))\n",
    "\n",
    "model.add(MaxPool2D(pool_size = (2,2)))\n",
    "model.add(Dropout(0.25))\n",
    "\n",
    "\n",
    "model.add(Conv2D(filters = 64, kernel_size = (3,3), padding \n",
    "                = 'Same', activation = 'relu'))\n",
    "model.add(Conv2D(filters = 64, kernel_size = (3,3), padding\n",
    "                = 'Same', activation = 'relu'))\n",
    "model.add(MaxPool2D(pool_size = (2,2), strides = (2,2)))\n",
    "model.add(Dropout(0.25))\n",
    "\n",
    "\n",
    "model.add(Flatten())\n",
    "model.add(Dense(256, activation = 'relu'))\n",
    "model.add(Dropout(0.5))\n",
    "model.add(Dense(10, activation = 'softmax'))"
   ]
  },
  {
   "cell_type": "code",
   "execution_count": 19,
   "metadata": {
    "execution": {
     "iopub.execute_input": "2021-02-14T02:58:22.141603Z",
     "iopub.status.busy": "2021-02-14T02:58:22.136953Z",
     "iopub.status.idle": "2021-02-14T02:58:22.147614Z",
     "shell.execute_reply": "2021-02-14T02:58:22.147187Z"
    },
    "papermill": {
     "duration": 0.040695,
     "end_time": "2021-02-14T02:58:22.147727",
     "exception": false,
     "start_time": "2021-02-14T02:58:22.107032",
     "status": "completed"
    },
    "tags": []
   },
   "outputs": [
    {
     "name": "stdout",
     "output_type": "stream",
     "text": [
      "Model: \"sequential\"\n",
      "_________________________________________________________________\n",
      "Layer (type)                 Output Shape              Param #   \n",
      "=================================================================\n",
      "conv2d (Conv2D)              (None, 28, 28, 32)        832       \n",
      "_________________________________________________________________\n",
      "conv2d_1 (Conv2D)            (None, 28, 28, 32)        25632     \n",
      "_________________________________________________________________\n",
      "max_pooling2d (MaxPooling2D) (None, 14, 14, 32)        0         \n",
      "_________________________________________________________________\n",
      "dropout (Dropout)            (None, 14, 14, 32)        0         \n",
      "_________________________________________________________________\n",
      "conv2d_2 (Conv2D)            (None, 14, 14, 64)        18496     \n",
      "_________________________________________________________________\n",
      "conv2d_3 (Conv2D)            (None, 14, 14, 64)        36928     \n",
      "_________________________________________________________________\n",
      "max_pooling2d_1 (MaxPooling2 (None, 7, 7, 64)          0         \n",
      "_________________________________________________________________\n",
      "dropout_1 (Dropout)          (None, 7, 7, 64)          0         \n",
      "_________________________________________________________________\n",
      "flatten (Flatten)            (None, 3136)              0         \n",
      "_________________________________________________________________\n",
      "dense (Dense)                (None, 256)               803072    \n",
      "_________________________________________________________________\n",
      "dropout_2 (Dropout)          (None, 256)               0         \n",
      "_________________________________________________________________\n",
      "dense_1 (Dense)              (None, 10)                2570      \n",
      "=================================================================\n",
      "Total params: 887,530\n",
      "Trainable params: 887,530\n",
      "Non-trainable params: 0\n",
      "_________________________________________________________________\n"
     ]
    }
   ],
   "source": [
    "model.summary()"
   ]
  },
  {
   "cell_type": "code",
   "execution_count": 20,
   "metadata": {
    "execution": {
     "iopub.execute_input": "2021-02-14T02:58:22.203603Z",
     "iopub.status.busy": "2021-02-14T02:58:22.201931Z",
     "iopub.status.idle": "2021-02-14T02:58:22.204230Z",
     "shell.execute_reply": "2021-02-14T02:58:22.204640Z"
    },
    "papermill": {
     "duration": 0.032218,
     "end_time": "2021-02-14T02:58:22.204759",
     "exception": false,
     "start_time": "2021-02-14T02:58:22.172541",
     "status": "completed"
    },
    "tags": []
   },
   "outputs": [],
   "source": [
    "optimizer = RMSprop(lr = 0.001, rho = 0.9, epsilon = 1e-08, decay\n",
    "                  = 0.0)"
   ]
  },
  {
   "cell_type": "code",
   "execution_count": 21,
   "metadata": {
    "execution": {
     "iopub.execute_input": "2021-02-14T02:58:22.264003Z",
     "iopub.status.busy": "2021-02-14T02:58:22.263503Z",
     "iopub.status.idle": "2021-02-14T02:58:22.270149Z",
     "shell.execute_reply": "2021-02-14T02:58:22.270530Z"
    },
    "papermill": {
     "duration": 0.040908,
     "end_time": "2021-02-14T02:58:22.270668",
     "exception": false,
     "start_time": "2021-02-14T02:58:22.229760",
     "status": "completed"
    },
    "tags": []
   },
   "outputs": [],
   "source": [
    "model.compile(optimizer = optimizer, loss = 'categorical_crossentropy', metrics\n",
    "             = ['accuracy'])"
   ]
  },
  {
   "cell_type": "code",
   "execution_count": 22,
   "metadata": {
    "execution": {
     "iopub.execute_input": "2021-02-14T02:58:22.324694Z",
     "iopub.status.busy": "2021-02-14T02:58:22.324149Z",
     "iopub.status.idle": "2021-02-14T02:58:22.328612Z",
     "shell.execute_reply": "2021-02-14T02:58:22.328148Z"
    },
    "papermill": {
     "duration": 0.03276,
     "end_time": "2021-02-14T02:58:22.328731",
     "exception": false,
     "start_time": "2021-02-14T02:58:22.295971",
     "status": "completed"
    },
    "tags": []
   },
   "outputs": [],
   "source": [
    "learning_reduction = ReduceLROnPlateau(monitor = 'val_loss',\n",
    "                                     patience = 3,\n",
    "                                     verbose = 1,\n",
    "                                     factor = 0.5,\n",
    "                                     min_lr = 0.00001)"
   ]
  },
  {
   "cell_type": "code",
   "execution_count": 23,
   "metadata": {
    "execution": {
     "iopub.execute_input": "2021-02-14T02:58:22.383288Z",
     "iopub.status.busy": "2021-02-14T02:58:22.382635Z",
     "iopub.status.idle": "2021-02-14T02:58:22.385702Z",
     "shell.execute_reply": "2021-02-14T02:58:22.385243Z"
    },
    "papermill": {
     "duration": 0.031624,
     "end_time": "2021-02-14T02:58:22.385809",
     "exception": false,
     "start_time": "2021-02-14T02:58:22.354185",
     "status": "completed"
    },
    "tags": []
   },
   "outputs": [],
   "source": [
    "epochs = 50 \n",
    "\n",
    "batch_size = 86"
   ]
  },
  {
   "cell_type": "markdown",
   "metadata": {
    "papermill": {
     "duration": 0.025044,
     "end_time": "2021-02-14T02:58:22.436632",
     "exception": false,
     "start_time": "2021-02-14T02:58:22.411588",
     "status": "completed"
    },
    "tags": []
   },
   "source": [
    "****Augmentation****"
   ]
  },
  {
   "cell_type": "code",
   "execution_count": 24,
   "metadata": {
    "execution": {
     "iopub.execute_input": "2021-02-14T02:58:22.493095Z",
     "iopub.status.busy": "2021-02-14T02:58:22.492109Z",
     "iopub.status.idle": "2021-02-14T02:58:22.584832Z",
     "shell.execute_reply": "2021-02-14T02:58:22.584319Z"
    },
    "papermill": {
     "duration": 0.123057,
     "end_time": "2021-02-14T02:58:22.584984",
     "exception": false,
     "start_time": "2021-02-14T02:58:22.461927",
     "status": "completed"
    },
    "tags": []
   },
   "outputs": [],
   "source": [
    "datagen = ImageDataGenerator(\n",
    "       \n",
    "        featurewise_center=False, \n",
    "       \n",
    "        samplewise_center=False,  \n",
    "       \n",
    "        featurewise_std_normalization=False, \n",
    "      \n",
    "        samplewise_std_normalization=False, \n",
    "      \n",
    "        zca_whitening=False,  \n",
    "       \n",
    "        rotation_range=10, \n",
    "       \n",
    "        zoom_range = 0.1,  \n",
    "        \n",
    "        width_shift_range=0.1,  \n",
    "            \n",
    "        height_shift_range=0.1, \n",
    "        \n",
    "        horizontal_flip=False,  \n",
    "        \n",
    "        vertical_flip=False) \n",
    "\n",
    "\n",
    "datagen.fit(X_train)\n"
   ]
  },
  {
   "cell_type": "code",
   "execution_count": 25,
   "metadata": {
    "execution": {
     "iopub.execute_input": "2021-02-14T02:58:22.641609Z",
     "iopub.status.busy": "2021-02-14T02:58:22.640656Z",
     "iopub.status.idle": "2021-02-14T03:06:40.439199Z",
     "shell.execute_reply": "2021-02-14T03:06:40.439652Z"
    },
    "papermill": {
     "duration": 497.829034,
     "end_time": "2021-02-14T03:06:40.439823",
     "exception": false,
     "start_time": "2021-02-14T02:58:22.610789",
     "status": "completed"
    },
    "tags": []
   },
   "outputs": [
    {
     "name": "stdout",
     "output_type": "stream",
     "text": [
      "Epoch 1/50\n",
      "439/439 - 14s - loss: 0.4413 - accuracy: 0.8584 - val_loss: 0.0632 - val_accuracy: 0.9795\n",
      "Epoch 2/50\n",
      "439/439 - 10s - loss: 0.1291 - accuracy: 0.9611 - val_loss: 0.0465 - val_accuracy: 0.9857\n",
      "Epoch 3/50\n",
      "439/439 - 10s - loss: 0.0948 - accuracy: 0.9707 - val_loss: 0.0372 - val_accuracy: 0.9890\n",
      "Epoch 4/50\n",
      "439/439 - 10s - loss: 0.0793 - accuracy: 0.9775 - val_loss: 0.0453 - val_accuracy: 0.9876\n",
      "Epoch 5/50\n",
      "439/439 - 10s - loss: 0.0717 - accuracy: 0.9783 - val_loss: 0.0344 - val_accuracy: 0.9905\n",
      "Epoch 6/50\n",
      "439/439 - 9s - loss: 0.0657 - accuracy: 0.9809 - val_loss: 0.0271 - val_accuracy: 0.9924\n",
      "Epoch 7/50\n",
      "439/439 - 9s - loss: 0.0613 - accuracy: 0.9817 - val_loss: 0.0295 - val_accuracy: 0.9905\n",
      "Epoch 8/50\n",
      "439/439 - 10s - loss: 0.0602 - accuracy: 0.9824 - val_loss: 0.0259 - val_accuracy: 0.9921\n",
      "Epoch 9/50\n",
      "439/439 - 10s - loss: 0.0602 - accuracy: 0.9835 - val_loss: 0.0210 - val_accuracy: 0.9936\n",
      "Epoch 10/50\n",
      "439/439 - 10s - loss: 0.0585 - accuracy: 0.9836 - val_loss: 0.0446 - val_accuracy: 0.9888\n",
      "Epoch 11/50\n",
      "439/439 - 10s - loss: 0.0603 - accuracy: 0.9834 - val_loss: 0.0313 - val_accuracy: 0.9902\n",
      "Epoch 12/50\n",
      "439/439 - 10s - loss: 0.0618 - accuracy: 0.9827 - val_loss: 0.0292 - val_accuracy: 0.9924\n",
      "\n",
      "Epoch 00012: ReduceLROnPlateau reducing learning rate to 0.0005000000237487257.\n",
      "Epoch 13/50\n",
      "439/439 - 10s - loss: 0.0472 - accuracy: 0.9875 - val_loss: 0.0297 - val_accuracy: 0.9917\n",
      "Epoch 14/50\n",
      "439/439 - 10s - loss: 0.0439 - accuracy: 0.9877 - val_loss: 0.0220 - val_accuracy: 0.9945\n",
      "Epoch 15/50\n",
      "439/439 - 10s - loss: 0.0420 - accuracy: 0.9884 - val_loss: 0.0196 - val_accuracy: 0.9952\n",
      "Epoch 16/50\n",
      "439/439 - 10s - loss: 0.0433 - accuracy: 0.9876 - val_loss: 0.0215 - val_accuracy: 0.9945\n",
      "Epoch 17/50\n",
      "439/439 - 10s - loss: 0.0481 - accuracy: 0.9868 - val_loss: 0.0233 - val_accuracy: 0.9926\n",
      "Epoch 18/50\n",
      "439/439 - 10s - loss: 0.0440 - accuracy: 0.9884 - val_loss: 0.0216 - val_accuracy: 0.9950\n",
      "\n",
      "Epoch 00018: ReduceLROnPlateau reducing learning rate to 0.0002500000118743628.\n",
      "Epoch 19/50\n",
      "439/439 - 10s - loss: 0.0378 - accuracy: 0.9892 - val_loss: 0.0199 - val_accuracy: 0.9945\n",
      "Epoch 20/50\n",
      "439/439 - 10s - loss: 0.0359 - accuracy: 0.9895 - val_loss: 0.0208 - val_accuracy: 0.9960\n",
      "Epoch 21/50\n",
      "439/439 - 10s - loss: 0.0348 - accuracy: 0.9899 - val_loss: 0.0336 - val_accuracy: 0.9933\n",
      "\n",
      "Epoch 00021: ReduceLROnPlateau reducing learning rate to 0.0001250000059371814.\n",
      "Epoch 22/50\n",
      "439/439 - 10s - loss: 0.0327 - accuracy: 0.9907 - val_loss: 0.0190 - val_accuracy: 0.9957\n",
      "Epoch 23/50\n",
      "439/439 - 10s - loss: 0.0315 - accuracy: 0.9904 - val_loss: 0.0197 - val_accuracy: 0.9952\n",
      "Epoch 24/50\n",
      "439/439 - 10s - loss: 0.0319 - accuracy: 0.9907 - val_loss: 0.0161 - val_accuracy: 0.9957\n",
      "Epoch 25/50\n",
      "439/439 - 10s - loss: 0.0324 - accuracy: 0.9911 - val_loss: 0.0200 - val_accuracy: 0.9955\n",
      "Epoch 26/50\n",
      "439/439 - 9s - loss: 0.0296 - accuracy: 0.9918 - val_loss: 0.0215 - val_accuracy: 0.9950\n",
      "Epoch 27/50\n",
      "439/439 - 10s - loss: 0.0284 - accuracy: 0.9915 - val_loss: 0.0199 - val_accuracy: 0.9950\n",
      "\n",
      "Epoch 00027: ReduceLROnPlateau reducing learning rate to 6.25000029685907e-05.\n",
      "Epoch 28/50\n",
      "439/439 - 10s - loss: 0.0299 - accuracy: 0.9914 - val_loss: 0.0198 - val_accuracy: 0.9945\n",
      "Epoch 29/50\n",
      "439/439 - 10s - loss: 0.0280 - accuracy: 0.9918 - val_loss: 0.0193 - val_accuracy: 0.9952\n",
      "Epoch 30/50\n",
      "439/439 - 10s - loss: 0.0302 - accuracy: 0.9917 - val_loss: 0.0201 - val_accuracy: 0.9943\n",
      "\n",
      "Epoch 00030: ReduceLROnPlateau reducing learning rate to 3.125000148429535e-05.\n",
      "Epoch 31/50\n",
      "439/439 - 10s - loss: 0.0281 - accuracy: 0.9919 - val_loss: 0.0215 - val_accuracy: 0.9948\n",
      "Epoch 32/50\n",
      "439/439 - 10s - loss: 0.0292 - accuracy: 0.9921 - val_loss: 0.0211 - val_accuracy: 0.9948\n",
      "Epoch 33/50\n",
      "439/439 - 10s - loss: 0.0282 - accuracy: 0.9920 - val_loss: 0.0188 - val_accuracy: 0.9955\n",
      "\n",
      "Epoch 00033: ReduceLROnPlateau reducing learning rate to 1.5625000742147677e-05.\n",
      "Epoch 34/50\n",
      "439/439 - 10s - loss: 0.0282 - accuracy: 0.9920 - val_loss: 0.0207 - val_accuracy: 0.9950\n",
      "Epoch 35/50\n",
      "439/439 - 9s - loss: 0.0282 - accuracy: 0.9916 - val_loss: 0.0205 - val_accuracy: 0.9952\n",
      "Epoch 36/50\n",
      "439/439 - 10s - loss: 0.0273 - accuracy: 0.9920 - val_loss: 0.0199 - val_accuracy: 0.9952\n",
      "\n",
      "Epoch 00036: ReduceLROnPlateau reducing learning rate to 1e-05.\n",
      "Epoch 37/50\n",
      "439/439 - 10s - loss: 0.0276 - accuracy: 0.9920 - val_loss: 0.0205 - val_accuracy: 0.9950\n",
      "Epoch 38/50\n",
      "439/439 - 10s - loss: 0.0258 - accuracy: 0.9923 - val_loss: 0.0214 - val_accuracy: 0.9950\n",
      "Epoch 39/50\n",
      "439/439 - 10s - loss: 0.0254 - accuracy: 0.9927 - val_loss: 0.0211 - val_accuracy: 0.9950\n",
      "Epoch 40/50\n",
      "439/439 - 10s - loss: 0.0267 - accuracy: 0.9921 - val_loss: 0.0206 - val_accuracy: 0.9952\n",
      "Epoch 41/50\n",
      "439/439 - 10s - loss: 0.0281 - accuracy: 0.9919 - val_loss: 0.0205 - val_accuracy: 0.9952\n",
      "Epoch 42/50\n",
      "439/439 - 10s - loss: 0.0267 - accuracy: 0.9925 - val_loss: 0.0205 - val_accuracy: 0.9952\n",
      "Epoch 43/50\n",
      "439/439 - 10s - loss: 0.0262 - accuracy: 0.9923 - val_loss: 0.0205 - val_accuracy: 0.9948\n",
      "Epoch 44/50\n",
      "439/439 - 10s - loss: 0.0262 - accuracy: 0.9925 - val_loss: 0.0202 - val_accuracy: 0.9950\n",
      "Epoch 45/50\n",
      "439/439 - 10s - loss: 0.0275 - accuracy: 0.9918 - val_loss: 0.0203 - val_accuracy: 0.9945\n",
      "Epoch 46/50\n",
      "439/439 - 10s - loss: 0.0268 - accuracy: 0.9921 - val_loss: 0.0200 - val_accuracy: 0.9945\n",
      "Epoch 47/50\n",
      "439/439 - 10s - loss: 0.0270 - accuracy: 0.9925 - val_loss: 0.0203 - val_accuracy: 0.9952\n",
      "Epoch 48/50\n",
      "439/439 - 10s - loss: 0.0279 - accuracy: 0.9916 - val_loss: 0.0206 - val_accuracy: 0.9950\n",
      "Epoch 49/50\n",
      "439/439 - 10s - loss: 0.0252 - accuracy: 0.9926 - val_loss: 0.0201 - val_accuracy: 0.9950\n",
      "Epoch 50/50\n",
      "439/439 - 10s - loss: 0.0277 - accuracy: 0.9922 - val_loss: 0.0199 - val_accuracy: 0.9955\n"
     ]
    }
   ],
   "source": [
    "history = model.fit(datagen.flow(X_train,y_train, batch_size=batch_size),\n",
    "                              epochs = epochs, validation_data = (X_test,y_test),\n",
    "                              verbose = 2, steps_per_epoch=X_train.shape[0] // batch_size\n",
    "                              , callbacks=[learning_reduction])"
   ]
  },
  {
   "cell_type": "code",
   "execution_count": 26,
   "metadata": {
    "execution": {
     "iopub.execute_input": "2021-02-14T03:06:40.551219Z",
     "iopub.status.busy": "2021-02-14T03:06:40.550265Z",
     "iopub.status.idle": "2021-02-14T03:06:41.610849Z",
     "shell.execute_reply": "2021-02-14T03:06:41.610323Z"
    },
    "papermill": {
     "duration": 1.119894,
     "end_time": "2021-02-14T03:06:41.610987",
     "exception": false,
     "start_time": "2021-02-14T03:06:40.491093",
     "status": "completed"
    },
    "tags": []
   },
   "outputs": [
    {
     "data": {
      "image/png": "[encoded data removed]",
      "text/plain": [
       "<Figure size 432x288 with 2 Axes>"
      ]
     },
     "metadata": {
      "needs_background": "light"
     },
     "output_type": "display_data"
    }
   ],
   "source": [
    "def plot_confusion_matrix(cm, classes,\n",
    "                          normalize=False,\n",
    "                          title='Confusion matrix',\n",
    "                          cmap=plt.cm.Blues):\n",
    "    \n",
    "    \n",
    "    \n",
    "    plt.imshow(cm, interpolation='nearest', cmap=cmap)\n",
    "    plt.title(title)\n",
    "    plt.colorbar()\n",
    "    tick_marks = np.arange(len(classes))\n",
    "    plt.xticks(tick_marks, classes, rotation=45)\n",
    "    plt.yticks(tick_marks, classes)\n",
    "\n",
    "    if normalize:\n",
    "        cm = cm.astype('float') / cm.sum(axis=1)[:, np.newaxis]\n",
    "\n",
    "    thresh = cm.max() / 2.\n",
    "    for i, j in itertools.product(range(cm.shape[0]), range(cm.shape[1])):\n",
    "        plt.text(j, i, cm[i, j],\n",
    "                 horizontalalignment=\"center\",\n",
    "                 color=\"white\" if cm[i, j] > thresh else \"black\")\n",
    "\n",
    "    plt.tight_layout()\n",
    "    plt.ylabel('True label')\n",
    "    plt.xlabel('Predicted label')\n",
    "\n",
    "\n",
    "Y_pred = model.predict(X_test)\n",
    " \n",
    "Y_pred_classes = np.argmax(Y_pred,axis = 1) \n",
    "\n",
    "Y_true = np.argmax(y_test,axis = 1) \n",
    "\n",
    "confusion_mtx = confusion_matrix(Y_true, Y_pred_classes) \n",
    "# plot the confusion matrix\n",
    "plot_confusion_matrix(confusion_mtx, classes = range(10))"
   ]
  },
  {
   "cell_type": "code",
   "execution_count": 27,
   "metadata": {
    "execution": {
     "iopub.execute_input": "2021-02-14T03:06:41.719045Z",
     "iopub.status.busy": "2021-02-14T03:06:41.718132Z",
     "iopub.status.idle": "2021-02-14T03:06:42.014446Z",
     "shell.execute_reply": "2021-02-14T03:06:42.015037Z"
    },
    "papermill": {
     "duration": 0.352293,
     "end_time": "2021-02-14T03:06:42.015227",
     "exception": false,
     "start_time": "2021-02-14T03:06:41.662934",
     "status": "completed"
    },
    "tags": []
   },
   "outputs": [
    {
     "name": "stdout",
     "output_type": "stream",
     "text": [
      "Test Accuracy:  0.9954761862754822\n"
     ]
    }
   ],
   "source": [
    "score = model.evaluate(X_test, y_test, verbose = 0)\n",
    "\n",
    "print('Test Accuracy: ', score[1])"
   ]
  },
  {
   "cell_type": "markdown",
   "metadata": {
    "papermill": {
     "duration": 0.051341,
     "end_time": "2021-02-14T03:06:42.119060",
     "exception": false,
     "start_time": "2021-02-14T03:06:42.067719",
     "status": "completed"
    },
    "tags": []
   },
   "source": [
    "# Tripple CNN"
   ]
  },
  {
   "cell_type": "code",
   "execution_count": 28,
   "metadata": {
    "execution": {
     "iopub.execute_input": "2021-02-14T03:06:42.230604Z",
     "iopub.status.busy": "2021-02-14T03:06:42.229991Z",
     "iopub.status.idle": "2021-02-14T03:06:42.233889Z",
     "shell.execute_reply": "2021-02-14T03:06:42.233495Z"
    },
    "papermill": {
     "duration": 0.064037,
     "end_time": "2021-02-14T03:06:42.233995",
     "exception": false,
     "start_time": "2021-02-14T03:06:42.169958",
     "status": "completed"
    },
    "tags": []
   },
   "outputs": [],
   "source": [
    "def get_newtriplecnn():\n",
    "    return Sequential([\n",
    "        Conv2D(32, kernel_size=(3, 3), activation='relu', padding='same', input_shape = (28,28,1)),\n",
    "        Conv2D(32, kernel_size=(3, 3), activation='relu', padding='same'),\n",
    "        BatchNormalization(),\n",
    "        MaxPool2D(pool_size=(2, 2)),\n",
    "        Dropout(0.25),\n",
    "        \n",
    "        Conv2D(64, kernel_size=(3, 3), activation='relu', padding='same'),\n",
    "        Conv2D(64, kernel_size=(3, 3), activation='relu', padding='same' ),\n",
    "        BatchNormalization(),\n",
    "        MaxPool2D(pool_size=(2, 2)),\n",
    "        Dropout(0.25),\n",
    "        \n",
    "        Conv2D(128, kernel_size=(3, 3), activation='relu', padding='same' ),\n",
    "        Conv2D(128, kernel_size=(3, 3), activation='relu', padding='same' ),\n",
    "        BatchNormalization(),\n",
    "        MaxPool2D(pool_size=(2, 2)),\n",
    "        Dropout(0.25),\n",
    "        \n",
    "        \n",
    "        Flatten(),\n",
    "          \n",
    "        Dense(512, activation='relu'),\n",
    "        BatchNormalization(),\n",
    "        Dropout(0.5),\n",
    "        \n",
    "        Dense(256, activation='relu'),\n",
    "        BatchNormalization(),\n",
    "        Dropout(0.4),\n",
    "        \n",
    "        Dense(64, activation='relu'),\n",
    "        BatchNormalization(),\n",
    "        Dropout(0.3),\n",
    "        \n",
    "        Dense(10, activation = \"softmax\")\n",
    "        \n",
    "    ])"
   ]
  },
  {
   "cell_type": "code",
   "execution_count": 29,
   "metadata": {
    "execution": {
     "iopub.execute_input": "2021-02-14T03:06:42.364998Z",
     "iopub.status.busy": "2021-02-14T03:06:42.359521Z",
     "iopub.status.idle": "2021-02-14T03:06:42.519285Z",
     "shell.execute_reply": "2021-02-14T03:06:42.518861Z"
    },
    "papermill": {
     "duration": 0.23381,
     "end_time": "2021-02-14T03:06:42.519413",
     "exception": false,
     "start_time": "2021-02-14T03:06:42.285603",
     "status": "completed"
    },
    "tags": []
   },
   "outputs": [
    {
     "name": "stdout",
     "output_type": "stream",
     "text": [
      "Model: \"sequential_1\"\n",
      "_________________________________________________________________\n",
      "Layer (type)                 Output Shape              Param #   \n",
      "=================================================================\n",
      "conv2d_4 (Conv2D)            (None, 28, 28, 32)        320       \n",
      "_________________________________________________________________\n",
      "conv2d_5 (Conv2D)            (None, 28, 28, 32)        9248      \n",
      "_________________________________________________________________\n",
      "batch_normalization (BatchNo (None, 28, 28, 32)        128       \n",
      "_________________________________________________________________\n",
      "max_pooling2d_2 (MaxPooling2 (None, 14, 14, 32)        0         \n",
      "_________________________________________________________________\n",
      "dropout_3 (Dropout)          (None, 14, 14, 32)        0         \n",
      "_________________________________________________________________\n",
      "conv2d_6 (Conv2D)            (None, 14, 14, 64)        18496     \n",
      "_________________________________________________________________\n",
      "conv2d_7 (Conv2D)            (None, 14, 14, 64)        36928     \n",
      "_________________________________________________________________\n",
      "batch_normalization_1 (Batch (None, 14, 14, 64)        256       \n",
      "_________________________________________________________________\n",
      "max_pooling2d_3 (MaxPooling2 (None, 7, 7, 64)          0         \n",
      "_________________________________________________________________\n",
      "dropout_4 (Dropout)          (None, 7, 7, 64)          0         \n",
      "_________________________________________________________________\n",
      "conv2d_8 (Conv2D)            (None, 7, 7, 128)         73856     \n",
      "_________________________________________________________________\n",
      "conv2d_9 (Conv2D)            (None, 7, 7, 128)         147584    \n",
      "_________________________________________________________________\n",
      "batch_normalization_2 (Batch (None, 7, 7, 128)         512       \n",
      "_________________________________________________________________\n",
      "max_pooling2d_4 (MaxPooling2 (None, 3, 3, 128)         0         \n",
      "_________________________________________________________________\n",
      "dropout_5 (Dropout)          (None, 3, 3, 128)         0         \n",
      "_________________________________________________________________\n",
      "flatten_1 (Flatten)          (None, 1152)              0         \n",
      "_________________________________________________________________\n",
      "dense_2 (Dense)              (None, 512)               590336    \n",
      "_________________________________________________________________\n",
      "batch_normalization_3 (Batch (None, 512)               2048      \n",
      "_________________________________________________________________\n",
      "dropout_6 (Dropout)          (None, 512)               0         \n",
      "_________________________________________________________________\n",
      "dense_3 (Dense)              (None, 256)               131328    \n",
      "_________________________________________________________________\n",
      "batch_normalization_4 (Batch (None, 256)               1024      \n",
      "_________________________________________________________________\n",
      "dropout_7 (Dropout)          (None, 256)               0         \n",
      "_________________________________________________________________\n",
      "dense_4 (Dense)              (None, 64)                16448     \n",
      "_________________________________________________________________\n",
      "batch_normalization_5 (Batch (None, 64)                256       \n",
      "_________________________________________________________________\n",
      "dropout_8 (Dropout)          (None, 64)                0         \n",
      "_________________________________________________________________\n",
      "dense_5 (Dense)              (None, 10)                650       \n",
      "=================================================================\n",
      "Total params: 1,029,418\n",
      "Trainable params: 1,027,306\n",
      "Non-trainable params: 2,112\n",
      "_________________________________________________________________\n"
     ]
    }
   ],
   "source": [
    "model = get_newtriplecnn()\n",
    "\n",
    "model.compile(optimizer = 'Adam', loss = 'categorical_crossentropy', metrics = ['accuracy'])\n",
    "\n",
    "model.summary()"
   ]
  },
  {
   "cell_type": "code",
   "execution_count": 30,
   "metadata": {
    "execution": {
     "iopub.execute_input": "2021-02-14T03:06:42.630049Z",
     "iopub.status.busy": "2021-02-14T03:06:42.629345Z",
     "iopub.status.idle": "2021-02-14T03:06:42.632564Z",
     "shell.execute_reply": "2021-02-14T03:06:42.633018Z"
    },
    "papermill": {
     "duration": 0.05962,
     "end_time": "2021-02-14T03:06:42.633138",
     "exception": false,
     "start_time": "2021-02-14T03:06:42.573518",
     "status": "completed"
    },
    "tags": []
   },
   "outputs": [],
   "source": [
    "callbacks1 = [ \n",
    "    EarlyStopping(monitor = 'loss', patience = 6), \n",
    "    ReduceLROnPlateau(monitor = 'loss', patience = 3), \n",
    "    ModelCheckpoint('model.best.hdf5', save_best_only=True) # saving the best model\n",
    "]"
   ]
  },
  {
   "cell_type": "code",
   "execution_count": 31,
   "metadata": {
    "execution": {
     "iopub.execute_input": "2021-02-14T03:06:42.742151Z",
     "iopub.status.busy": "2021-02-14T03:06:42.741160Z",
     "iopub.status.idle": "2021-02-14T03:16:40.618860Z",
     "shell.execute_reply": "2021-02-14T03:16:40.619840Z"
    },
    "papermill": {
     "duration": 597.934748,
     "end_time": "2021-02-14T03:16:40.620053",
     "exception": false,
     "start_time": "2021-02-14T03:06:42.685305",
     "status": "completed"
    },
    "tags": []
   },
   "outputs": [
    {
     "name": "stdout",
     "output_type": "stream",
     "text": [
      "Epoch 1/50\n",
      "439/439 [==============================] - 13s 26ms/step - loss: 1.3656 - accuracy: 0.5659 - val_loss: 2.4223 - val_accuracy: 0.4460\n",
      "Epoch 2/50\n",
      "439/439 [==============================] - 11s 26ms/step - loss: 0.1978 - accuracy: 0.9414 - val_loss: 0.0702 - val_accuracy: 0.9793\n",
      "Epoch 3/50\n",
      "439/439 [==============================] - 12s 28ms/step - loss: 0.1415 - accuracy: 0.9586 - val_loss: 0.0727 - val_accuracy: 0.9774\n",
      "Epoch 4/50\n",
      "439/439 [==============================] - 11s 26ms/step - loss: 0.1104 - accuracy: 0.9692 - val_loss: 0.0929 - val_accuracy: 0.9748\n",
      "Epoch 5/50\n",
      "439/439 [==============================] - 12s 27ms/step - loss: 0.0902 - accuracy: 0.9741 - val_loss: 0.0315 - val_accuracy: 0.9905\n",
      "Epoch 6/50\n",
      "439/439 [==============================] - 12s 27ms/step - loss: 0.0839 - accuracy: 0.9763 - val_loss: 0.0420 - val_accuracy: 0.9886\n",
      "Epoch 7/50\n",
      "439/439 [==============================] - 11s 26ms/step - loss: 0.0773 - accuracy: 0.9788 - val_loss: 0.0492 - val_accuracy: 0.9860\n",
      "Epoch 8/50\n",
      "439/439 [==============================] - 12s 28ms/step - loss: 0.0633 - accuracy: 0.9821 - val_loss: 0.0290 - val_accuracy: 0.9910\n",
      "Epoch 9/50\n",
      "439/439 [==============================] - 11s 26ms/step - loss: 0.0662 - accuracy: 0.9815 - val_loss: 0.0453 - val_accuracy: 0.9879\n",
      "Epoch 10/50\n",
      "439/439 [==============================] - 11s 26ms/step - loss: 0.0626 - accuracy: 0.9823 - val_loss: 0.0286 - val_accuracy: 0.9921\n",
      "Epoch 11/50\n",
      "439/439 [==============================] - 12s 28ms/step - loss: 0.0583 - accuracy: 0.9844 - val_loss: 0.0290 - val_accuracy: 0.9902\n",
      "Epoch 12/50\n",
      "439/439 [==============================] - 11s 26ms/step - loss: 0.0560 - accuracy: 0.9845 - val_loss: 0.0285 - val_accuracy: 0.9919\n",
      "Epoch 13/50\n",
      "439/439 [==============================] - 11s 26ms/step - loss: 0.0494 - accuracy: 0.9855 - val_loss: 0.0417 - val_accuracy: 0.9874\n",
      "Epoch 14/50\n",
      "439/439 [==============================] - 12s 28ms/step - loss: 0.0531 - accuracy: 0.9852 - val_loss: 0.0380 - val_accuracy: 0.9910\n",
      "Epoch 15/50\n",
      "439/439 [==============================] - 11s 26ms/step - loss: 0.0473 - accuracy: 0.9871 - val_loss: 0.0370 - val_accuracy: 0.9905\n",
      "Epoch 16/50\n",
      "439/439 [==============================] - 12s 28ms/step - loss: 0.0394 - accuracy: 0.9889 - val_loss: 0.0493 - val_accuracy: 0.9857\n",
      "Epoch 17/50\n",
      "439/439 [==============================] - 11s 26ms/step - loss: 0.0484 - accuracy: 0.9865 - val_loss: 0.0208 - val_accuracy: 0.9945\n",
      "Epoch 18/50\n",
      "439/439 [==============================] - 11s 26ms/step - loss: 0.0387 - accuracy: 0.9904 - val_loss: 0.0281 - val_accuracy: 0.9919\n",
      "Epoch 19/50\n",
      "439/439 [==============================] - 13s 30ms/step - loss: 0.0418 - accuracy: 0.9878 - val_loss: 0.0214 - val_accuracy: 0.9933\n",
      "Epoch 20/50\n",
      "439/439 [==============================] - 11s 26ms/step - loss: 0.0376 - accuracy: 0.9900 - val_loss: 0.0274 - val_accuracy: 0.9907\n",
      "Epoch 21/50\n",
      "439/439 [==============================] - 11s 25ms/step - loss: 0.0401 - accuracy: 0.9887 - val_loss: 0.0177 - val_accuracy: 0.9948\n",
      "Epoch 22/50\n",
      "439/439 [==============================] - 12s 28ms/step - loss: 0.0356 - accuracy: 0.9902 - val_loss: 0.0154 - val_accuracy: 0.9950\n",
      "Epoch 23/50\n",
      "439/439 [==============================] - 11s 26ms/step - loss: 0.0348 - accuracy: 0.9902 - val_loss: 0.0219 - val_accuracy: 0.9940\n",
      "Epoch 24/50\n",
      "439/439 [==============================] - 13s 30ms/step - loss: 0.0380 - accuracy: 0.9899 - val_loss: 0.0186 - val_accuracy: 0.9950\n",
      "Epoch 25/50\n",
      "439/439 [==============================] - 12s 26ms/step - loss: 0.0347 - accuracy: 0.9903 - val_loss: 0.0232 - val_accuracy: 0.9929\n",
      "Epoch 26/50\n",
      "439/439 [==============================] - 11s 26ms/step - loss: 0.0333 - accuracy: 0.9907 - val_loss: 0.0209 - val_accuracy: 0.9945\n",
      "Epoch 27/50\n",
      "439/439 [==============================] - 13s 29ms/step - loss: 0.0293 - accuracy: 0.9916 - val_loss: 0.0217 - val_accuracy: 0.9948\n",
      "Epoch 28/50\n",
      "439/439 [==============================] - 12s 26ms/step - loss: 0.0302 - accuracy: 0.9916 - val_loss: 0.0200 - val_accuracy: 0.9933\n",
      "Epoch 29/50\n",
      "439/439 [==============================] - 11s 26ms/step - loss: 0.0274 - accuracy: 0.9916 - val_loss: 0.0205 - val_accuracy: 0.9940\n",
      "Epoch 30/50\n",
      "439/439 [==============================] - 13s 30ms/step - loss: 0.0289 - accuracy: 0.9917 - val_loss: 0.0169 - val_accuracy: 0.9950\n",
      "Epoch 31/50\n",
      "439/439 [==============================] - 11s 26ms/step - loss: 0.0266 - accuracy: 0.9930 - val_loss: 0.0200 - val_accuracy: 0.9938\n",
      "Epoch 32/50\n",
      "439/439 [==============================] - 13s 30ms/step - loss: 0.0295 - accuracy: 0.9918 - val_loss: 0.0168 - val_accuracy: 0.9957\n",
      "Epoch 33/50\n",
      "439/439 [==============================] - 11s 26ms/step - loss: 0.0322 - accuracy: 0.9915 - val_loss: 0.0260 - val_accuracy: 0.9952\n",
      "Epoch 34/50\n",
      "439/439 [==============================] - 11s 26ms/step - loss: 0.0225 - accuracy: 0.9940 - val_loss: 0.0206 - val_accuracy: 0.9938\n",
      "Epoch 35/50\n",
      "439/439 [==============================] - 13s 30ms/step - loss: 0.0261 - accuracy: 0.9932 - val_loss: 0.0202 - val_accuracy: 0.9952\n",
      "Epoch 36/50\n",
      "439/439 [==============================] - 11s 26ms/step - loss: 0.0236 - accuracy: 0.9935 - val_loss: 0.0186 - val_accuracy: 0.9950\n",
      "Epoch 37/50\n",
      "439/439 [==============================] - 11s 26ms/step - loss: 0.0217 - accuracy: 0.9937 - val_loss: 0.0197 - val_accuracy: 0.9950\n",
      "Epoch 38/50\n",
      "439/439 [==============================] - 13s 30ms/step - loss: 0.0250 - accuracy: 0.9928 - val_loss: 0.0221 - val_accuracy: 0.9940\n",
      "Epoch 39/50\n",
      "439/439 [==============================] - 11s 25ms/step - loss: 0.0250 - accuracy: 0.9936 - val_loss: 0.0158 - val_accuracy: 0.9957\n",
      "Epoch 40/50\n",
      "439/439 [==============================] - 11s 26ms/step - loss: 0.0238 - accuracy: 0.9937 - val_loss: 0.0290 - val_accuracy: 0.9924\n",
      "Epoch 41/50\n",
      "439/439 [==============================] - 13s 30ms/step - loss: 0.0240 - accuracy: 0.9932 - val_loss: 0.0264 - val_accuracy: 0.9929\n",
      "Epoch 42/50\n",
      "439/439 [==============================] - 11s 25ms/step - loss: 0.0180 - accuracy: 0.9950 - val_loss: 0.0137 - val_accuracy: 0.9962\n",
      "Epoch 43/50\n",
      "439/439 [==============================] - 12s 28ms/step - loss: 0.0164 - accuracy: 0.9956 - val_loss: 0.0136 - val_accuracy: 0.9969\n",
      "Epoch 44/50\n",
      "439/439 [==============================] - 13s 29ms/step - loss: 0.0183 - accuracy: 0.9953 - val_loss: 0.0132 - val_accuracy: 0.9967\n",
      "Epoch 45/50\n",
      "439/439 [==============================] - 11s 26ms/step - loss: 0.0154 - accuracy: 0.9960 - val_loss: 0.0146 - val_accuracy: 0.9967\n",
      "Epoch 46/50\n",
      "439/439 [==============================] - 13s 30ms/step - loss: 0.0144 - accuracy: 0.9957 - val_loss: 0.0140 - val_accuracy: 0.9969\n",
      "Epoch 47/50\n",
      "439/439 [==============================] - 11s 25ms/step - loss: 0.0142 - accuracy: 0.9963 - val_loss: 0.0147 - val_accuracy: 0.9967\n",
      "Epoch 48/50\n",
      "439/439 [==============================] - 11s 26ms/step - loss: 0.0151 - accuracy: 0.9956 - val_loss: 0.0135 - val_accuracy: 0.9967\n",
      "Epoch 49/50\n",
      "439/439 [==============================] - 14s 31ms/step - loss: 0.0139 - accuracy: 0.9963 - val_loss: 0.0146 - val_accuracy: 0.9969\n",
      "Epoch 50/50\n",
      "439/439 [==============================] - 12s 26ms/step - loss: 0.0112 - accuracy: 0.9970 - val_loss: 0.0148 - val_accuracy: 0.9967\n"
     ]
    }
   ],
   "source": [
    "history = model.fit(datagen.flow(X_train, y_train, batch_size = batch_size), epochs = 50,\n",
    "                               steps_per_epoch = X_train.shape[0] // batch_size,\n",
    "                               validation_data = (X_test, y_test),\n",
    "                               callbacks = callbacks1,\n",
    "                             )"
   ]
  },
  {
   "cell_type": "code",
   "execution_count": 32,
   "metadata": {
    "execution": {
     "iopub.execute_input": "2021-02-14T03:16:45.158510Z",
     "iopub.status.busy": "2021-02-14T03:16:45.157560Z",
     "iopub.status.idle": "2021-02-14T03:16:46.543786Z",
     "shell.execute_reply": "2021-02-14T03:16:46.542728Z"
    },
    "papermill": {
     "duration": 3.615784,
     "end_time": "2021-02-14T03:16:46.543933",
     "exception": false,
     "start_time": "2021-02-14T03:16:42.928149",
     "status": "completed"
    },
    "tags": []
   },
   "outputs": [],
   "source": [
    "result = model.predict(df_test)\n",
    "\n",
    "result = np.argmax(result, axis=1)\n",
    "\n",
    "result = pd.Series(result, name ='Label')"
   ]
  },
  {
   "cell_type": "code",
   "execution_count": 33,
   "metadata": {
    "execution": {
     "iopub.execute_input": "2021-02-14T03:16:51.147249Z",
     "iopub.status.busy": "2021-02-14T03:16:51.146445Z",
     "iopub.status.idle": "2021-02-14T03:16:51.429547Z",
     "shell.execute_reply": "2021-02-14T03:16:51.428560Z"
    },
    "papermill": {
     "duration": 2.581921,
     "end_time": "2021-02-14T03:16:51.429764",
     "exception": false,
     "start_time": "2021-02-14T03:16:48.847843",
     "status": "completed"
    },
    "tags": []
   },
   "outputs": [],
   "source": [
    "submission = pd.concat([pd.Series(range(1,28001),name = \"ImageId\"),result],axis = 1)\n",
    "\n",
    "submission.to_csv(\"./submission_cnn.csv\",index=False)"
   ]
  },
  {
   "cell_type": "code",
   "execution_count": null,
   "metadata": {
    "papermill": {
     "duration": 2.205806,
     "end_time": "2021-02-14T03:16:56.400001",
     "exception": false,
     "start_time": "2021-02-14T03:16:54.194195",
     "status": "completed"
    },
    "tags": []
   },
   "outputs": [],
   "source": []
  }
 ],
 "metadata": {
  "kernelspec": {
   "display_name": "Python 3",
   "language": "python",
   "name": "python3"
  },
  "language_info": {
   "codemirror_mode": {
    "name": "ipython",
    "version": 3
   },
   "file_extension": ".py",
   "mimetype": "text/x-python",
   "name": "python",
   "nbconvert_exporter": "python",
   "pygments_lexer": "ipython3",
   "version": "3.7.9"
  },
  "papermill": {
   "default_parameters": {},
   "duration": 1141.551388,
   "end_time": "2021-02-14T03:17:01.490136",
   "environment_variables": {},
   "exception": null,
   "input_path": "__notebook__.ipynb",
   "output_path": "__notebook__.ipynb",
   "parameters": {},
   "start_time": "2021-02-14T02:57:59.938748",
   "version": "2.2.2"
  }
 },
 "nbformat": 4,
 "nbformat_minor": 4
}
